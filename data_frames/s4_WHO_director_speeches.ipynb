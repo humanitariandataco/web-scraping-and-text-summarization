{
  "nbformat": 4,
  "nbformat_minor": 0,
  "metadata": {
    "colab": {
      "name": "WHO_director_speeches.ipynb",
      "provenance": [],
      "authorship_tag": "ABX9TyN7GdL/Oc64c+iDPt6irbs/",
      "include_colab_link": true
    },
    "kernelspec": {
      "name": "python3",
      "display_name": "Python 3"
    }
  },
  "cells": [
    {
      "cell_type": "markdown",
      "metadata": {
        "id": "view-in-github",
        "colab_type": "text"
      },
      "source": [
        "<a href=\"https://colab.research.google.com/github/deregenboogm/NLP_coronavirus_project/blob/master/data_frames/s4_WHO_director_speeches.ipynb\" target=\"_parent\"><img src=\"https://colab.research.google.com/assets/colab-badge.svg\" alt=\"Open In Colab\"/></a>"
      ]
    },
    {
      "cell_type": "code",
      "metadata": {
        "id": "Govco_HPo8cW",
        "colab_type": "code",
        "colab": {}
      },
      "source": [
        "def get_speeches():\n",
        "  ## Define url\n",
        "  url = \"https://www.who.int/dg/speeches/detail\"\n",
        "\n",
        "  ## Request to access the url\n",
        "  r = requests.get(url)\n",
        "  \n",
        "  ## Parsing the content\n",
        "  soup = BeautifulSoup(r.content, 'html.parser')\n",
        "\n",
        "  ## Find speeches and their links those are related to COVID-19\n",
        "  items = soup.find_all(\"div\", class_ = \"list-view--item vertical-list-item\")\n",
        "  \n",
        "  links = []\n",
        "  for item in items:\n",
        "    if \"COVID-19\" in item.p.text:\n",
        "      links.append(item.a[\"href\"])\n",
        "  \n",
        "  ## Optain a list of speeches   \n",
        "  speeches=[]\n",
        "  \n",
        "  for link in links: \n",
        "    r = requests.get(link)\n",
        "    soup = BeautifulSoup(r.content, \"html.parser\")\n",
        "\n",
        "    speech = {}\n",
        "    speech[\"title\"] = soup.h1.text\n",
        "    speech[\"date\"] = soup.find(\"div\", class_= \"date\").text\n",
        "    speech[\"date\"] = pd.to_datetime(speech[\"date\"])\n",
        "    speech[\"date\"] = speech[\"date\"].isoformat().split('T')[0]\n",
        "    speech[\"link\"] =  link\n",
        "    speech[\"summary\"] = []\n",
        "\n",
        "    raw_text = []\n",
        "    paragraphs = soup.find_all(\"p\")\n",
        "    for p in paragraphs:\n",
        "      joined_p = \"\".join(p.text)\n",
        "      joined_p = joined_p.replace(\"===\", \"\")\n",
        "      joined_p = joined_p.replace(\" '\", \"'\")\n",
        "      joined_p = joined_p.replace(\".\", \". \")\n",
        "      raw_text.append(joined_p)\n",
        "\n",
        "    raw_text = ''.join(map(str, raw_text))\n",
        "\n",
        "    summ = generate_summary(raw_text)\n",
        "    speech[\"summary\"] = summ\n",
        "  \n",
        "    speeches.append(speech)\n",
        "          \n",
        "  df = pd.DataFrame(speeches, index=None)\n",
        "  \n",
        "  # Saving the dataframe\n",
        "  df.to_csv(\"/content/drive/My Drive/WHO_speeches.csv\", index = False)\n",
        "\n",
        "  print(\"Total number of COVID-19 speeches: \" , len(speeches))\n",
        "  print(\"The 'WHO_speeches.csv' files have been successfully updated for today!\")\n"
      ],
      "execution_count": null,
      "outputs": []
    }
  ]
}