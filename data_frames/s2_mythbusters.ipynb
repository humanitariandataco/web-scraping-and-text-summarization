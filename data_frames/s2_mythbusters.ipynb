{
  "nbformat": 4,
  "nbformat_minor": 0,
  "metadata": {
    "colab": {
      "name": "s2.mythbusters.ipynb",
      "provenance": [],
      "collapsed_sections": [],
      "authorship_tag": "ABX9TyN7GrjKAalqbORjgw/j4vcp",
      "include_colab_link": true
    },
    "kernelspec": {
      "name": "python3",
      "display_name": "Python 3"
    }
  },
  "cells": [
    {
      "cell_type": "markdown",
      "metadata": {
        "id": "view-in-github",
        "colab_type": "text"
      },
      "source": [
        "<a href=\"https://colab.research.google.com/github/deregenboogm/NLP_coronavirus_project/blob/master/s2_mythbusters.ipynb\" target=\"_parent\"><img src=\"https://colab.research.google.com/assets/colab-badge.svg\" alt=\"Open In Colab\"/></a>"
      ]
    },
    {
      "cell_type": "markdown",
      "metadata": {
        "id": "iz_iEFZeps0E",
        "colab_type": "text"
      },
      "source": [
        "\n",
        "# NLP DEEPLO AI Project Part II: Section 2. Myth Busters\n",
        "\n",
        "\n",
        "Task:\n",
        "\n",
        "Webscraping with BeautifulSoup and storing data\n",
        "\n",
        "This section gives facts against myths and misconceptions in relation to COVID-19 (Coronavirus), which is published by World Health Organization (WHO).\n",
        "\n"
      ]
    },
    {
      "cell_type": "code",
      "metadata": {
        "id": "GGADGGyHo1tz",
        "colab_type": "code",
        "colab": {}
      },
      "source": [
        "def get_myth_busters():\n",
        "  import requests\n",
        "  from bs4 import BeautifulSoup\n",
        "  import pandas as pd\n",
        "\n",
        "  url = 'https://www.who.int/emergencies/diseases/novel-coronavirus-2019/advice-for-public/myth-busters'\n",
        "  data = requests.get(url)\n",
        "  if data.status_code == 200:\n",
        "    soup = BeautifulSoup(data.content, 'html.parser')\n",
        "  else:\n",
        "    print(\"The web-site is not accessable at this moment!!\")\n",
        "    print(\"The status code is : \" , data.status_code)\n",
        "\n",
        "  ## Find the myths with their title tag\n",
        "  h2_ = soup.find_all(\"h2\")\n",
        "  \n",
        "  temp = []\n",
        "  \n",
        "  for i in h2_:\n",
        "    temp.append(\"\".join(i.text))\n",
        "  \n",
        "  # Get rid of empthy and irrelevant lines\n",
        "  myths = list(filter(None, temp))\n",
        "  myths = myths[1:]\n",
        " \n",
        "  ## Find explanations of the myths\n",
        "  explanations =[]\n",
        "  tag = soup.find_all(\"h2\")\n",
        "\n",
        "  for pr in tag:\n",
        "    explanations.append(pr.find_next(\"p\").text.strip())\n",
        "  \n",
        "  # Get rid of empty lines\n",
        "  explanations = list(filter(None, explanations))\n",
        "\n",
        "  # Get rid of dublicates of lines\n",
        "  explanations = list(dict.fromkeys(explanations))\n",
        "  \n",
        "  # Find links of the Facts pictures\n",
        "  temp_l = soup.find_all(\"img\", class_ = \"lazy\")\n",
        "  \n",
        "  a_ = []\n",
        "  for i in temp_l:\n",
        "    a_.append(i.find_parent(\"a\"))\n",
        "  \n",
        "  links = []\n",
        "  for i in a_:\n",
        "    if \"myth-busters\" in i[\"href\"]:\n",
        "      links.append((i[\"href\"]))\n",
        "  \n",
        "  ## Create a dataframe including myths titles and their explanations, do not include pictures not to cause dismatch their lenghts\n",
        "  if len(myths) == len(explanations):\n",
        "    d = {\"myth\" : myths, \"explanation\" : explanations}\n",
        "    df = pd.DataFrame(d)\n",
        "\n",
        "    ## Save myth busters and related images\n",
        "    df.to_csv(r\"C:\\Users\\Pro\\section2.csv\", index=None)\n",
        "    with open(r\"C:\\Users\\Pro\\section2_pic.txt\", \"w\") as f:\n",
        "      for row in links:\n",
        "        f.write(str(row) + \"\\n\")  \n",
        "    \n",
        "  else:\n",
        "    print(\"WARNING: The lengths of the columns in the dataframe do not match!\")\n",
        "\n",
        "    with open(r\"C:\\Users\\Pro\\section2_pic.txt\", \"w\") as f:\n",
        "      for row in links:\n",
        "        f.write(str(row) + \"\\n\")   \n",
        "        "
      ],
      "execution_count": 0,
      "outputs": []
    }
  ]
}
