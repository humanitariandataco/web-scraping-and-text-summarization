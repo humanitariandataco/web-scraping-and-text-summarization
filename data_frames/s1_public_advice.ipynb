{
  "nbformat": 4,
  "nbformat_minor": 0,
  "metadata": {
    "kernelspec": {
      "display_name": "Python 3",
      "language": "python",
      "name": "python3"
    },
    "language_info": {
      "codemirror_mode": {
        "name": "ipython",
        "version": 3
      },
      "file_extension": ".py",
      "mimetype": "text/x-python",
      "name": "python",
      "nbconvert_exporter": "python",
      "pygments_lexer": "ipython3",
      "version": "3.7.3"
    },
    "varInspector": {
      "cols": {
        "lenName": 16,
        "lenType": 16,
        "lenVar": 40
      },
      "kernels_config": {
        "python": {
          "delete_cmd_postfix": "",
          "delete_cmd_prefix": "del ",
          "library": "var_list.py",
          "varRefreshCmd": "print(var_dic_list())"
        },
        "r": {
          "delete_cmd_postfix": ") ",
          "delete_cmd_prefix": "rm(",
          "library": "var_list.r",
          "varRefreshCmd": "cat(var_dic_list()) "
        }
      },
      "types_to_exclude": [
        "module",
        "function",
        "builtin_function_or_method",
        "instance",
        "_Feature"
      ],
      "window_display": false
    },
    "colab": {
      "name": "s1_public_advice.ipynb",
      "provenance": [],
      "collapsed_sections": [],
      "include_colab_link": true
    }
  },
  "cells": [
    {
      "cell_type": "markdown",
      "metadata": {
        "id": "view-in-github",
        "colab_type": "text"
      },
      "source": [
        "<a href=\"https://colab.research.google.com/github/deregenboogm/NLP_coronavirus_project/blob/master/s1_public_advice.ipynb\" target=\"_parent\"><img src=\"https://colab.research.google.com/assets/colab-badge.svg\" alt=\"Open In Colab\"/></a>"
      ]
    },
    {
      "cell_type": "markdown",
      "metadata": {
        "id": "CX7bhCaeFjIm",
        "colab_type": "text"
      },
      "source": [
        "# NLP DEEPLO AI Project Part II: Section 1. Public Advice\n",
        "\n",
        "Task: \n",
        "1. Webscraping a table content with PANDAS\n",
        "\n",
        "2. Store data\n",
        "\n",
        "\n",
        "\n",
        "*   The section presents practical information provided by an official web site of European Union, which is European Commission, aiming at keeping people stay healty against COVID-19 (Coronavirus).\n",
        "\n"
      ]
    },
    {
      "cell_type": "code",
      "metadata": {
        "id": "zLz5aTLg6jKk",
        "colab_type": "code",
        "colab": {}
      },
      "source": [
        "def get_public_advice():\n",
        "  # import libraries\n",
        "  import requests\n",
        "  from bs4 import BeautifulSoup\n",
        "  import pandas as pd\n",
        "\n",
        "\n",
        "  \n",
        "  url='https://ec.europa.eu/info/live-work-travel-eu/health/coronavirus-response/public-health/stay-healthy-practical-information_en'\n",
        "  \n",
        "  table=pd.read_html(url, match='dangerous')\n",
        "  df=table[0]\n",
        "  df = df.dropna(how='all', axis=1)\n",
        "  df.columns = [\"Questions\", \"Answers\"]\n",
        "  df[['Questions', 'Answers']].to_csv(r\"C:\\Users\\Pro\\section1.csv\", mode='w', index = False)\n",
        "  \n",
        "  print(\"The 'Public_advice.csv' is successfully updated!\")\n",
        "\n"
      ],
      "execution_count": 0,
      "outputs": []
    }
  ]
}
