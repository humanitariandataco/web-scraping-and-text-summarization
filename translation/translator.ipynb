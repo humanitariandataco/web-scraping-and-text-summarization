{
  "nbformat": 4,
  "nbformat_minor": 0,
  "metadata": {
    "colab": {
      "name": "translator.ipynb",
      "provenance": [],
      "collapsed_sections": [],
      "authorship_tag": "ABX9TyMiS6VeE3B0nrKw8/God64k",
      "include_colab_link": true
    },
    "kernelspec": {
      "name": "python3",
      "display_name": "Python 3"
    }
  },
  "cells": [
    {
      "cell_type": "markdown",
      "metadata": {
        "id": "view-in-github",
        "colab_type": "text"
      },
      "source": [
        "<a href=\"https://colab.research.google.com/github/deregenboogm/NLP_coronavirus_project/blob/master/translation/translator.ipynb\" target=\"_parent\"><img src=\"https://colab.research.google.com/assets/colab-badge.svg\" alt=\"Open In Colab\"/></a>"
      ]
    },
    {
      "cell_type": "code",
      "metadata": {
        "id": "MuZUUYKXrGOo",
        "colab_type": "code",
        "colab": {}
      },
      "source": [
        "def translate_df(data):\n",
        "  !pip install googletrans\n",
        "  from googletrans import Translator\n",
        "  \n",
        "  translator = Translator(service_urls=['translate.google.com', 'translate.google.co.kr',]) # or translator = Translator() in general\n",
        "\n",
        "  translations = {}\n",
        "  for column in data.columns:\n",
        "      # unique words of the column\n",
        "      unique_columns = data[column].unique()\n",
        "      for i in unique_columns:\n",
        "          # add translation to the dictionary\n",
        "          translations[i] = translator.translate(i).text\n",
        "\n",
        "  data.replace(translations, inplace = True)\n",
        "  return data\n"
      ],
      "execution_count": null,
      "outputs": []
    }
  ]
}